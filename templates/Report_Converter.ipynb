{
 "cells": [
  {
   "cell_type": "markdown",
   "id": "86a68bff-6adb-4a48-88a0-cd7f9d61fbfb",
   "metadata": {},
   "source": [
    "# Report Converter"
   ]
  },
  {
   "cell_type": "code",
   "execution_count": 1,
   "id": "a6e6040d-3c67-4295-a8c8-2323be44de46",
   "metadata": {},
   "outputs": [],
   "source": [
    "from nbconvert import PDFExporter\n",
    "from nbconvert import HTMLExporter\n",
    "from nbconvert.writers import FilesWriter\n",
    "from traitlets.config import Config"
   ]
  },
  {
   "cell_type": "markdown",
   "id": "6ca3edd9-f5ab-483b-99dc-8cc19219f7dd",
   "metadata": {},
   "source": [
    "## 1. PDF File"
   ]
  },
  {
   "cell_type": "code",
   "execution_count": 5,
   "id": "823aa730-2560-4ae9-9c61-155cfbf62c62",
   "metadata": {},
   "outputs": [],
   "source": [
    "def export_to_pdf_with_custom_template(input_notebook, output_pdf):\n",
    "    c = Config()\n",
    "    c.TemplateExporter.exclude_input = True\n",
    "    c.PDFExporter.template_file = './custom_template.tplx'\n",
    "\n",
    "    pdf_exporter = PDFExporter(config=c)\n",
    "    pdf_data, resources = pdf_exporter.from_filename(input_notebook)\n",
    "\n",
    "    writer = FilesWriter()\n",
    "    writer.write(pdf_data, resources, notebook_name=output_pdf)\n",
    "\n",
    "export_to_pdf_with_custom_template('../Unemployment_Heatmap.ipynb', './output/Unemployment_Heatmap_Python')"
   ]
  },
  {
   "cell_type": "markdown",
   "id": "17261462-0eda-48a2-8ec4-4b4a5b28c4e4",
   "metadata": {},
   "source": [
    "## 2. HTML File"
   ]
  },
  {
   "cell_type": "code",
   "execution_count": 11,
   "id": "20bd7d82-d534-48df-b249-8c05b42020fd",
   "metadata": {},
   "outputs": [],
   "source": [
    "def export_to_html_with_custom_template(input_notebook, output_html):\n",
    "    c = Config()\n",
    "    c.HTMLExporter.template_file = './custom_template.html'  \n",
    "\n",
    "    html_exporter = HTMLExporter(config=c)\n",
    "    html_data, resources = html_exporter.from_filename(input_notebook)\n",
    "\n",
    "    writer = FilesWriter()\n",
    "    writer.write(html_data, resources, notebook_name=output_html)\n",
    "\n",
    "export_to_html_with_custom_template('../Unemployment_Heatmap.ipynb', './output/Unemployment_Heatmap_Python')"
   ]
  }
 ],
 "metadata": {
  "kernelspec": {
   "display_name": "Python 3 (ipykernel)",
   "language": "python",
   "name": "python3"
  },
  "language_info": {
   "codemirror_mode": {
    "name": "ipython",
    "version": 3
   },
   "file_extension": ".py",
   "mimetype": "text/x-python",
   "name": "python",
   "nbconvert_exporter": "python",
   "pygments_lexer": "ipython3",
   "version": "3.11.5"
  }
 },
 "nbformat": 4,
 "nbformat_minor": 5
}
